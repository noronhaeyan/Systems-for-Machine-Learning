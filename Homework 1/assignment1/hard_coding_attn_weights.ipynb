{
 "cells": [
  {
   "cell_type": "markdown",
   "metadata": {},
   "source": [
    "### 1.2 Hard Coding the Attention Weights to Solve Associative Recall (15 points)\n",
    "\n",
    "Please see the main assignment PDF for the problem overview"
   ]
  },
  {
   "cell_type": "code",
   "execution_count": 1,
   "metadata": {},
   "outputs": [],
   "source": [
    "%load_ext autoreload\n",
    "%autoreload 2\n",
    "\n",
    "import matplotlib.pyplot as plt\n",
    "import math\n",
    "from typing import List\n",
    "import numpy as np\n",
    "import torch"
   ]
  },
  {
   "cell_type": "markdown",
   "metadata": {},
   "source": [
    "#### Generate a sample Associative Recall dataset"
   ]
  },
  {
   "cell_type": "code",
   "execution_count": 4,
   "metadata": {},
   "outputs": [
    {
     "name": "stdout",
     "output_type": "stream",
     "text": [
      "Input: [2, 9, 2, 9, 2, 9, 1, 5, 1, 5, 1, 5]\n",
      "Indices with values 'seen again' (repeated) to score: [2, 4, 8, 10]\n",
      "The values that are repeated: [2, 2, 1, 1]\n",
      "Expected Associative Recall output for repeated values: [9, 9, 5, 5]\n"
     ]
    }
   ],
   "source": [
    "def generate_dataset(\n",
    "    vocab_size: int = 50,\n",
    "    num_examples: int = 1000,\n",
    "    seed: int = 0,\n",
    ") -> List[str]:\n",
    "    \"\"\"\n",
    "    Generate a dataset for the associative recall task.\n",
    "    \"\"\"\n",
    "    np.random.seed(seed)\n",
    "    torch.manual_seed(seed)\n",
    "    tokens = torch.arange(vocab_size) + 1\n",
    "    keys   = tokens[: (vocab_size // 2) - 1]\n",
    "    values = tokens[((vocab_size // 2) - 1):-1]\n",
    "    examples = []\n",
    "    repeated = []\n",
    "    golds = []\n",
    "    for _ in range(num_examples):\n",
    "        shuffled_keys = keys[torch.randperm(len(keys))]\n",
    "        shuffled_values = values[torch.randperm(len(values))]\n",
    "        kv_pairs = list(zip(shuffled_keys, shuffled_values))  \n",
    "        example = kv_pairs[:4*len(kv_pairs) // 8]\n",
    "        example += kv_pairs[:4*len(kv_pairs) // 8]\n",
    "        example += kv_pairs[:4*len(kv_pairs) // 8]\n",
    "        # shuffle example and repeat_pos\n",
    "        perm = torch.randperm(len(example))\n",
    "        example = [example[i] for i in perm]\n",
    "        repeat_pos = []\n",
    "        repeats = {}\n",
    "        for i, (k, v) in enumerate(example):\n",
    "            if int(k) in repeats:\n",
    "                repeat_pos.append(i)\n",
    "            repeats[int(k)] = int(v)\n",
    "        example_tensor = torch.tensor(example).flatten()\n",
    "        repeat_tensor = [i*2 for i in repeat_pos]\n",
    "        gold = []\n",
    "        for i in repeat_tensor:\n",
    "            gold.append(int(example_tensor[i+1]))\n",
    "        repeated.append(repeat_tensor)\n",
    "        examples.append(example_tensor)\n",
    "        golds.append(gold)\n",
    "    examples = torch.stack(examples)\n",
    "    return examples, repeated, golds\n",
    "\n",
    "vocab_size=10\n",
    "examples, repeated, golds = generate_dataset(vocab_size=vocab_size)\n",
    "print(\"Input:\", examples[0].tolist())\n",
    "print(\"Indices with values 'seen again' (repeated) to score:\", repeated[0])\n",
    "print(\"The values that are repeated:\", examples[0][repeated[0]].tolist())\n",
    "print(\"Expected Associative Recall output for repeated values:\", golds[0])"
   ]
  },
  {
   "cell_type": "markdown",
   "metadata": {},
   "source": [
    "#### Understanding the Dataset\n",
    "\n",
    "Example Input: [2, 9, 2, 9, 2, 9, 1, 5, 1, 5, 1, 5]  \n",
    "Example Output: [2, 2, 9, 2, 9, 2, 2, 2, 5, 1, 5, 1] -- you can see this is the output in the very last line of the notebook! \n",
    "\n",
    "Each item in the ouput is the 'next-token prediction' given the tokens seen so far, i.e., we are doing causal language modeling.\n",
    "\n",
    "- When we have the prefix '2 9', we don't know what the next token prediction should be, so we end up just seeing some random token '2' in the output (at the corresponding index). \n",
    "- When we have the prefix '2 9 2' we know that we've previously seen '9' follow a '2' so you can see that '9' appears in the 3rd spot of the output vector as the next token prediction for prefix '2 9 2'. \n",
    "\n",
    "- Later in the sequence, when we have prefix '2, 9, 2, 9, 2, 9, 1', we have no idea what comes after a '1' since we haven't seen that before. So notice the next token prediction is some random token '2'.\n",
    "- But when we have the prefix '2, 9, 2, 9, 2, 9, 1, 5, 1,', we have seen '5' follow '1' before. In the output vector, we see the '5'! Great!\n",
    "\n",
    "If you look at the 'Scoring' code we have provided, we are only scoring your solution on positions that correspond to 'repeated_tokens' (like the repeated 2 or repeated 1 we discussed in the bullets above). We are not scoring those 'random token' positions, since the model has no idea what should come in those positions."
   ]
  },
  {
   "cell_type": "markdown",
   "metadata": {},
   "source": [
    "#### Embeddings (do not modify)\n",
    "\n",
    "Note that `vocab_size = 10` in the code above (our vocab is the digits 0-9). Each token is embedded as a one-hot vector."
   ]
  },
  {
   "cell_type": "code",
   "execution_count": 12,
   "metadata": {},
   "outputs": [
    {
     "data": {
      "text/plain": [
       "<matplotlib.image.AxesImage at 0x160e3ba00>"
      ]
     },
     "execution_count": 12,
     "metadata": {},
     "output_type": "execute_result"
    },
    {
     "data": {
      "image/png": "[encoded data removed]",
      "text/plain": [
       "<Figure size 640x480 with 1 Axes>"
      ]
     },
     "metadata": {},
     "output_type": "display_data"
    }
   ],
   "source": [
    "# Define the one-hot token embeddings \n",
    "emb_pos_2_tok_id = {}\n",
    "embeddings_init = torch.zeros(vocab_size, vocab_size)\n",
    "for i in range(vocab_size):\n",
    "    embeddings_init[i][i] = 1\n",
    "    emb_pos_2_tok_id[i] = embeddings_init[i]\n",
    "plt.imshow(embeddings_init.detach().numpy())"
   ]
  },
  {
   "cell_type": "markdown",
   "metadata": {},
   "source": [
    "Define a unique position embedding for each sequence position"
   ]
  },
  {
   "cell_type": "code",
   "execution_count": 17,
   "metadata": {},
   "outputs": [
    {
     "name": "stdout",
     "output_type": "stream",
     "text": [
      "Sequence length: 12\n"
     ]
    },
    {
     "data": {
      "image/png": "[encoded data removed]",
      "text/plain": [
       "<Figure size 640x480 with 1 Axes>"
      ]
     },
     "metadata": {},
     "output_type": "display_data"
    }
   ],
   "source": [
    "# Define the positional embeddings\n",
    "batch_size, sequence_length = examples.shape[0], examples.shape[1]\n",
    "seq_len = sequence_length \n",
    "positional_encodings = torch.zeros((seq_len, seq_len))\n",
    "for pos in range(seq_len):\n",
    "    positional_encodings[pos][pos] = 1\n",
    "plt.imshow(positional_encodings.detach().numpy())\n",
    "print(\"Sequence length:\", seq_len)"
   ]
  },
  {
   "cell_type": "code",
   "execution_count": 45,
   "metadata": {},
   "outputs": [
    {
     "name": "stdout",
     "output_type": "stream",
     "text": [
      "Sequence length (vertical axis): 12\n",
      "Model Dimension (horizontal axis): 22\n",
      "Visualizing the embedding of tensor([2, 9, 2, 9, 2, 9, 1, 5, 1, 5, 1, 5])\n"
     ]
    },
    {
     "data": {
      "text/plain": [
       "<matplotlib.image.AxesImage at 0x1501adc30>"
      ]
     },
     "execution_count": 45,
     "metadata": {},
     "output_type": "execute_result"
    },
    {
     "data": {
      "image/png": "[encoded data removed]",
      "text/plain": [
       "<Figure size 640x480 with 1 Axes>"
      ]
     },
     "metadata": {},
     "output_type": "display_data"
    }
   ],
   "source": [
    "# embed the input\n",
    "position_dim, embed_dim = positional_encodings.shape[1], embeddings_init.shape[1]\n",
    "d_model = position_dim + embed_dim \n",
    "embs = torch.zeros((batch_size, seq_len, d_model))\n",
    "# examples = torch.tensor([[0, 1, 3, 4, 5, 6, 0]])\n",
    "for i in range(len(examples)):\n",
    "    for j in range(len(examples[i])):\n",
    "        embs[i][j] = torch.concat((positional_encodings[j], embeddings_init[examples[i][j]]))\n",
    "\n",
    "print(f\"Sequence length (vertical axis): {seq_len}\")\n",
    "print(f\"Model Dimension (horizontal axis): {d_model}\")\n",
    "print(f\"Visualizing the embedding of {examples[0]}\")\n",
    "plt.imshow(embs[0].detach().numpy())"
   ]
  },
  {
   "cell_type": "markdown",
   "metadata": {},
   "source": [
    "#### Your task is to fill in the \"YOUR ANSWER\" 5 lines of code below!\n",
    "\n",
    "- For the below code, let $e_i$ represent a token embedding\n",
    "- Note that we have some \"*100\" operations to keep the scores we want high after softmax -- softmax makes the distribution spikey\n",
    "\n",
    "The overall goal is to hard-code some values for two layers of attention to solve Associative Recall"
   ]
  },
  {
   "cell_type": "markdown",
   "metadata": {},
   "source": [
    "#### Layer 1"
   ]
  },
  {
   "cell_type": "code",
   "execution_count": 22,
   "metadata": {},
   "outputs": [],
   "source": [
    "# initializing some tensors for Q, K, V (do not modify)\n",
    "K = torch.eye(d_model) \n",
    "Q = torch.zeros_like(K) \n",
    "V = torch.zeros_like(K) "
   ]
  },
  {
   "cell_type": "markdown",
   "metadata": {},
   "source": [
    "#### Define the weights of the projection matrix K that is used to construct the keys in attention\n",
    "- Below, we want $q_1k_1^T$ to have high values on positions $p_i$ where $p_{(i-1)}$ was a key token that matches the query token\n",
    "- The goal of K is to zero-out the token embeddings $e_1$, $e_2$, but keep the position embeddings $p_1$, $p_2$, ..."
   ]
  },
  {
   "cell_type": "code",
   "execution_count": 23,
   "metadata": {},
   "outputs": [],
   "source": [
    "K[position_dim:] = 0 "
   ]
  },
  {
   "cell_type": "markdown",
   "metadata": {},
   "source": [
    "#### TODO Define the weights of the projection matrix Q that is used to construct the queries in attention\n",
    "- The goal of Q is to shift the position embeddings by one position (in addition to masking)"
   ]
  },
  {
   "cell_type": "code",
   "execution_count": 33,
   "metadata": {},
   "outputs": [],
   "source": [
    "Q[1:position_dim+1, :position_dim] = 100 * # YOUR ANSWER TENSOR\n",
    "\n",
    "# Hint: YOUR ANSWER should be some tensor that is position_dim x position_dim. The 100 is for the softmax point discussed above (ignore it!)"
   ]
  },
  {
   "cell_type": "markdown",
   "metadata": {},
   "source": [
    "#### TODO Define the weights of the projection matrix V that is used to construct the values in attention\n",
    "- The goal of this matrix is to isolate the token embeddings $e_1$, $e_2$, ...\n",
    "- Ultimately, $output = softmax(q_1 k_1^T)V$ should contain each token embedding shifted forward by one position (the old token 1 is now at position 2, etc.)"
   ]
  },
  {
   "cell_type": "code",
   "execution_count": 34,
   "metadata": {},
   "outputs": [],
   "source": [
    "V[position_dim:, :embed_dim] = 100 * #YOUR ANSWER TENSOR\n",
    "\n",
    "# Hint: YOUR ANSWER should be some tensor that is embed_dim x embed_dim"
   ]
  },
  {
   "cell_type": "code",
   "execution_count": 35,
   "metadata": {},
   "outputs": [],
   "source": [
    "# Perform Attention (do not modify)\n",
    "q1 = embs @ Q \n",
    "k1 = embs @ K \n",
    "v1 = embs @ V \n",
    "S1 = torch.matmul(q1, k1.transpose(1, 2)) / math.sqrt(Q.shape[0])\n",
    "P1 = torch.nn.functional.softmax(S1, dim=1)\n",
    "P1 = torch.tril(P1)\n",
    "O1 = torch.matmul(P1, v1)\n",
    "z1 = O1 + embs"
   ]
  },
  {
   "cell_type": "markdown",
   "metadata": {},
   "source": [
    "#### Where are we now?\n",
    "-  z1 will contain the values corresponding to each key token embedding in the original sequence in the left half of the matrix ($e_2$, $e_3$, $e_4$, ...) (from O1)\n",
    "- z1 will contain the original token embeddings in the right half of the matrix ($e_1$, $e_2$, $e_3$, ...) (embs)"
   ]
  },
  {
   "cell_type": "markdown",
   "metadata": {},
   "source": [
    "#### Layer 2: \n",
    "Next let's look at layer 2 below. So far, we have the original tokens and the shifted tokens so let's try to rearrange the correct shifted token to be in the output position."
   ]
  },
  {
   "cell_type": "code",
   "execution_count": 36,
   "metadata": {},
   "outputs": [],
   "source": [
    "# Initialize (do not modify)\n",
    "K2 = torch.zeros(d_model, d_model)\n",
    "Q2 = torch.eye(d_model) \n",
    "V2 = torch.eye(d_model)"
   ]
  },
  {
   "cell_type": "markdown",
   "metadata": {},
   "source": [
    "#### TODO Define the weights of the projection matrix K that is used to construct the keys in attention\n",
    "- The goal of K is to grab the shifted token embeddings $e_2$, $e_3$, ..."
   ]
  },
  {
   "cell_type": "code",
   "execution_count": 37,
   "metadata": {},
   "outputs": [],
   "source": [
    "K2[:embed_dim, position_dim:] = 100 * #YOUR ANSWER TENSOR\n",
    "# Hint: YOUR ANSWER can be filled in with a tensor of dimensions embed_dim x embed dim. Ignore the 100* again (it's to handle the softmax point discussed above)"
   ]
  },
  {
   "cell_type": "markdown",
   "metadata": {},
   "source": [
    "#### TODO Define the weights of the projection matrix Q that is used to construct the queries in attention\n",
    "- Q2 will have 1's on the token embedding indices ... so that z1 @ Q2 will yield just the token embeddings $e_1$, $e_2$, ...\n"
   ]
  },
  {
   "cell_type": "code",
   "execution_count": 38,
   "metadata": {},
   "outputs": [],
   "source": [
    "Q2[:position_dim] = # YOUR ANSWER SCALAR\n",
    "# Hint: YOUR ANSWER can be filled in with a single scalar number!"
   ]
  },
  {
   "cell_type": "markdown",
   "metadata": {},
   "source": [
    "#### TODO Define the weights of the projection matrix V that is used to construct the values in attention\n",
    "- Now we want q2 (original token embeddings) to match k2 (shifted token embeddings). So $q_2k_2^T$ will have high values on indices that correspond to the desired associative recall outputs\n",
    "- We want to define V so that it helps us extract the value in the original sequence for $q_2k_2^T$ indices with high values\n",
    "- Fill in V2 so that v2 will contain the original token embeddings $e_1$, $e_2$, ... after we compute v2 = z1 @ V2"
   ]
  },
  {
   "cell_type": "code",
   "execution_count": 39,
   "metadata": {},
   "outputs": [],
   "source": [
    "V2[:position_dim] = # YOUR ANSWER SCALAR\n",
    "# Hint: YOUR ANSWER can be filled in with a single scalar number!"
   ]
  },
  {
   "cell_type": "markdown",
   "metadata": {},
   "source": [
    "#### The above settings for K2, Q2, and v2 will move the original token to the \"output\" for the next token prediction"
   ]
  },
  {
   "cell_type": "code",
   "execution_count": 40,
   "metadata": {},
   "outputs": [],
   "source": [
    "# performing attention (do not modify)\n",
    "q2 = z1 @ Q2\n",
    "k2 = z1 @ K2\n",
    "v2 = z1 @ V2\n",
    "S2 = torch.matmul(q2, k2.transpose(1, 2)) / math.sqrt(Q2.shape[0])\n",
    "P2 = torch.nn.functional.softmax(S2, dim=1)\n",
    "P2 = torch.tril(P2)\n",
    "O2 = torch.matmul(P2, v2)"
   ]
  },
  {
   "cell_type": "markdown",
   "metadata": {},
   "source": [
    "#### Below, we are going to apply a \"language modeling head\" to get our next token predictions for the sequence\n",
    "\n",
    "We will do this by taking the argmax of the output O2 --  we are going to take the indices in O2 that have the highest values. Remember that when you trained your model using lm.py in Q1 of the assignment, there was a softmax after all the attention layers and we outputted the token with the highest softmax score. Using argmax is the same idea, except for that because we are using one-hot encodings, the position of the highest value in each row of O2 corresponds to the next-token prediction. We can just take the argmax instead of softmax."
   ]
  },
  {
   "cell_type": "code",
   "execution_count": 41,
   "metadata": {},
   "outputs": [],
   "source": [
    "# do not modify\n",
    "z2 = torch.argmax(O2, dim=-1)"
   ]
  },
  {
   "cell_type": "markdown",
   "metadata": {},
   "source": [
    "#### Adjusting for concatenated position embeddings. \n",
    "Finally, remember that when we constructed our embeddings for the sequence, we had position embeddings concatenated with token embeddings. So let's subtract off the position_dim (number of position embedding spots) so that the token embedding values are correct. "
   ]
  },
  {
   "cell_type": "code",
   "execution_count": 42,
   "metadata": {},
   "outputs": [],
   "source": [
    "# do not modify\n",
    "z2 = z2 - position_dim"
   ]
  },
  {
   "cell_type": "markdown",
   "metadata": {},
   "source": [
    "### Score the Results"
   ]
  },
  {
   "cell_type": "code",
   "execution_count": 43,
   "metadata": {},
   "outputs": [],
   "source": [
    "def score_solution(\n",
    "    repeated: torch.Tensor, \n",
    "    predictions: torch.Tensor,\n",
    "    golds: torch.Tensor,\n",
    ") -> float:\n",
    "    \"\"\"\n",
    "    Score a solution to the associative recall task.\n",
    "    golds is [batch_size x num_golds]\n",
    "    predictions is [batch_size x seq_len]\n",
    "    \"\"\"\n",
    "    correct = 0\n",
    "    total = 0\n",
    "    incorrect_indices = []\n",
    "    for idx, (gold, repeat_positions, preds) in enumerate(zip(golds, repeated, predictions)):\n",
    "        assert len(repeat_positions) == len(gold), print(f\"{idx}: {len(repeat_positions)} != {len(gold)} -- repeat: {repeat_positions}, gold: {gold}\")\n",
    "        num_correct = len([True for j, i in enumerate(repeat_positions) if gold[j] == preds[i]])\n",
    "        correct += num_correct\n",
    "        total += len(gold)\n",
    "        if num_correct != len(gold):\n",
    "            incorrect_indices.append(idx)\n",
    "    print(f\"Accuracy: {correct / total}, sample size {total}, over {len(examples)} examples\")\n",
    "    return incorrect_indices"
   ]
  },
  {
   "cell_type": "markdown",
   "metadata": {},
   "source": [
    "You should see perfect accuracy printed."
   ]
  },
  {
   "cell_type": "code",
   "execution_count": 44,
   "metadata": {},
   "outputs": [
    {
     "name": "stdout",
     "output_type": "stream",
     "text": [
      "Accuracy: 1.0, sample size 4000, over 1000 examples\n"
     ]
    },
    {
     "data": {
      "text/plain": [
       "[]"
      ]
     },
     "execution_count": 44,
     "metadata": {},
     "output_type": "execute_result"
    }
   ],
   "source": [
    "incorrect_indices = score_solution(repeated, z2, golds)\n",
    "incorrect_indices[:10]"
   ]
  },
  {
   "cell_type": "markdown",
   "metadata": {},
   "source": [
    "#### Visualize the Steps"
   ]
  },
  {
   "cell_type": "code",
   "execution_count": 46,
   "metadata": {},
   "outputs": [
    {
     "name": "stdout",
     "output_type": "stream",
     "text": [
      "Input\n",
      "tensor([2, 9, 2, 9, 2, 9, 1, 5, 1, 5, 1, 5])\n",
      "Below we are going to print a bunch of N x D matrices for the solution. Note that D is of length (position_dim + embed_dim)\n",
      "\n",
      "q1 -- there are ones on the position encodings side of the matrix, shifted by one position\n"
     ]
    },
    {
     "data": {
      "image/png": "[encoded data removed]",
      "text/plain": [
       "<Figure size 640x480 with 1 Axes>"
      ]
     },
     "metadata": {},
     "output_type": "display_data"
    },
    {
     "name": "stdout",
     "output_type": "stream",
     "text": [
      "k1 -- there are ones on the position encodings side of the matrix, corresponding to the position encodings in the original sequence\n"
     ]
    },
    {
     "data": {
      "image/png": "[encoded data removed]",
      "text/plain": [
       "<Figure size 640x480 with 1 Axes>"
      ]
     },
     "metadata": {},
     "output_type": "display_data"
    },
    {
     "name": "stdout",
     "output_type": "stream",
     "text": [
      "v1 -- we take the original token embeddings in the sequence\n"
     ]
    },
    {
     "data": {
      "image/png": "[encoded data removed]",
      "text/plain": [
       "<Figure size 640x480 with 1 Axes>"
      ]
     },
     "metadata": {},
     "output_type": "display_data"
    },
    {
     "name": "stdout",
     "output_type": "stream",
     "text": [
      "S1 -- there are high values on the indices i, j where j comes before a particular token i in the sequence\n"
     ]
    },
    {
     "data": {
      "image/png": "[encoded data removed]",
      "text/plain": [
       "<Figure size 640x480 with 1 Axes>"
      ]
     },
     "metadata": {},
     "output_type": "display_data"
    },
    {
     "name": "stdout",
     "output_type": "stream",
     "text": [
      "O1 -- we have shifted each token embedding forward by one position. the old token 1 is now at position 2, etc.\n"
     ]
    },
    {
     "data": {
      "image/png": "[encoded data removed]",
      "text/plain": [
       "<Figure size 640x480 with 1 Axes>"
      ]
     },
     "metadata": {},
     "output_type": "display_data"
    },
    {
     "name": "stdout",
     "output_type": "stream",
     "text": [
      "z1 -- it's hard to visualize because of the relative values, but the original embeddings are now added back\n"
     ]
    },
    {
     "data": {
      "image/png": "[encoded data removed]",
      "text/plain": [
       "<Figure size 640x480 with 1 Axes>"
      ]
     },
     "metadata": {},
     "output_type": "display_data"
    },
    {
     "name": "stdout",
     "output_type": "stream",
     "text": [
      "q2 -- remember we said z1 has the original embeddings added back. q2 just takes the original token embeddings from z1 (right hand side)\n"
     ]
    },
    {
     "data": {
      "image/png": "[encoded data removed]",
      "text/plain": [
       "<Figure size 640x480 with 1 Axes>"
      ]
     },
     "metadata": {},
     "output_type": "display_data"
    },
    {
     "name": "stdout",
     "output_type": "stream",
     "text": [
      "k2 -- k2 takes the embeddings shifted forward by one position (left hand side of z1)\n"
     ]
    },
    {
     "data": {
      "image/png": "[encoded data removed]",
      "text/plain": [
       "<Figure size 640x480 with 1 Axes>"
      ]
     },
     "metadata": {},
     "output_type": "display_data"
    },
    {
     "name": "stdout",
     "output_type": "stream",
     "text": [
      "v2 -- v2 takes the original token embeddings from z1 as well\n"
     ]
    },
    {
     "data": {
      "image/png": "[encoded data removed]",
      "text/plain": [
       "<Figure size 640x480 with 1 Axes>"
      ]
     },
     "metadata": {},
     "output_type": "display_data"
    },
    {
     "name": "stdout",
     "output_type": "stream",
     "text": [
      "S2 -- S2 has high values at (i, j) if token i matches token j-1 in the original sequence\n"
     ]
    },
    {
     "data": {
      "image/png": "[encoded data removed]",
      "text/plain": [
       "<Figure size 640x480 with 1 Axes>"
      ]
     },
     "metadata": {},
     "output_type": "display_data"
    },
    {
     "name": "stdout",
     "output_type": "stream",
     "text": [
      "O2 -- O2 has the associative recall output tokens\n"
     ]
    },
    {
     "data": {
      "image/png": "[encoded data removed]",
      "text/plain": [
       "<Figure size 640x480 with 1 Axes>"
      ]
     },
     "metadata": {},
     "output_type": "display_data"
    },
    {
     "name": "stdout",
     "output_type": "stream",
     "text": [
      "z2 before subtracting position dim -- we take the argmax of O2 to get the token embedding with the 'max' value\n",
      "tensor([14, 14, 21, 14, 21, 14, 14, 14, 17, 13, 17, 13])\n",
      "z2 after subtracting position dim (12)\n",
      "tensor([2, 2, 9, 2, 9, 2, 2, 2, 5, 1, 5, 1])\n"
     ]
    }
   ],
   "source": [
    "idx = 0\n",
    "\n",
    "print(\"Input\")\n",
    "print(examples[idx])\n",
    "\n",
    "print(f\"Below we are going to print a bunch of N x D matrices for the solution. Note that D is of length (position_dim + embed_dim)\\n\")\n",
    "\n",
    "print(\"q1 -- there are ones on the position encodings side of the matrix, shifted by one position\")\n",
    "plt.imshow(q1[idx].detach().numpy())\n",
    "plt.show()\n",
    "print(\"k1 -- there are ones on the position encodings side of the matrix, corresponding to the position encodings in the original sequence\")\n",
    "plt.imshow(k1[idx].detach().numpy())\n",
    "plt.show()\n",
    "print(\"v1 -- we take the original token embeddings in the sequence\")\n",
    "plt.imshow(v1[idx].detach().numpy())\n",
    "plt.show()\n",
    "print(\"S1 -- there are high values on the indices i, j where j comes before a particular token i in the sequence\")\n",
    "plt.imshow(S1[idx].detach().numpy())\n",
    "plt.show()\n",
    "print(\"O1 -- we have shifted each token embedding forward by one position. the old token 1 is now at position 2, etc.\")\n",
    "plt.imshow(O1[idx].detach().numpy())\n",
    "plt.show()\n",
    "print(\"z1 -- it's hard to visualize because of the relative values, but the original embeddings are now added back\")\n",
    "plt.imshow(z1[idx].detach().numpy())\n",
    "plt.show()\n",
    "\n",
    "print(\"q2 -- remember we said z1 has the original embeddings added back. q2 just takes the original token embeddings from z1 (right hand side)\")\n",
    "plt.imshow(q2[idx].detach().numpy())\n",
    "plt.show()\n",
    "print(\"k2 -- k2 takes the embeddings shifted forward by one position (left hand side of z1)\")\n",
    "plt.imshow(k2[idx].detach().numpy())\n",
    "plt.show()\n",
    "print(\"v2 -- v2 takes the original token embeddings from z1 as well\")\n",
    "plt.imshow(v2[idx].detach().numpy())\n",
    "plt.show()\n",
    "print(\"S2 -- S2 has high values at (i, j) if token i matches token j-1 in the original sequence\")\n",
    "plt.imshow(S2[idx].detach().numpy())\n",
    "plt.show()\n",
    "print(\"O2 -- O2 has the associative recall output tokens\")\n",
    "plt.imshow(O2[idx].detach().numpy())\n",
    "plt.show()\n",
    "\n",
    "print(\"z2 before subtracting position dim -- we take the argmax of O2 to get the token embedding with the 'max' value\")\n",
    "z2 = torch.argmax(O2, dim=-1)\n",
    "print(z2[0])\n",
    "print(f\"z2 after subtracting position dim ({position_dim})\")\n",
    "z2 = z2 - position_dim\n",
    "print(z2[0])"
   ]
  }
 ],
 "metadata": {
  "kernelspec": {
   "display_name": "Python 3",
   "language": "python",
   "name": "python3"
  },
  "language_info": {
   "codemirror_mode": {
    "name": "ipython",
    "version": 3
   },
   "file_extension": ".py",
   "mimetype": "text/x-python",
   "name": "python",
   "nbconvert_exporter": "python",
   "pygments_lexer": "ipython3",
   "version": "3.12.3"
  },
  "orig_nbformat": 4
 },
 "nbformat": 4,
 "nbformat_minor": 2
}
