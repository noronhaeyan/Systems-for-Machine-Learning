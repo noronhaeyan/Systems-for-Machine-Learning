{
  "cells": [
    {
      "cell_type": "markdown",
      "metadata": {
        "id": "CgOvY_xMBhUG"
      },
      "source": [
        "Open this notebook in Google Colab. Please see [the 231N tutorial](https://www.youtube.com/watch?v=DsGd2e9JNH4&t=383s&ab_channel=MooJinKim) for further reference.\n",
        "\n",
        "**Ensure you are connected to the T4 GPU runtime before running `run.sh`**. Select this runtime from the top-right corner of the screen."
      ]
    },
    {
      "cell_type": "markdown",
      "metadata": {
        "id": "9qlc_c-FAeEf"
      },
      "source": [
        "**Install requirements**"
      ]
    },
    {
      "cell_type": "code",
      "execution_count": null,
      "metadata": {
        "id": "cy75saA_KfAt"
      },
      "outputs": [],
      "source": [
        "!pip install einops\n",
        "!pip install torchmetrics"
      ]
    },
    {
      "cell_type": "markdown",
      "metadata": {
        "id": "Nb5Yg6YFAj59"
      },
      "source": [
        "**Connect to Google Drive**"
      ]
    },
    {
      "cell_type": "code",
      "execution_count": null,
      "metadata": {
        "id": "oEhwPEfR8Bf2"
      },
      "outputs": [],
      "source": [
        "from google.colab import drive\n",
        "\n",
        "drive.mount('/content/drive')"
      ]
    },
    {
      "cell_type": "markdown",
      "metadata": {
        "id": "9APuufw0AqUT"
      },
      "source": [
        "**cd to inside the programming_transformers directory** wherever you uploaded it in your Drive\n",
        "\n",
        "For example, `%cd drive/MyDrive/programming_transformers`"
      ]
    },
    {
      "cell_type": "code",
      "execution_count": null,
      "metadata": {
        "id": "1Suzdrt38VI1"
      },
      "outputs": [],
      "source": [
        "%cd #<path to programming_transformers in Google Drive>"
      ]
    },
    {
      "cell_type": "markdown",
      "metadata": {
        "id": "uFeOpqyXA1Zl"
      },
      "source": [
        "**Permisions**"
      ]
    },
    {
      "cell_type": "code",
      "execution_count": null,
      "metadata": {
        "id": "wfOd-9uOiVwv"
      },
      "outputs": [],
      "source": [
        "!chmod +x run.sh"
      ]
    },
    {
      "cell_type": "markdown",
      "metadata": {
        "id": "PRV-a6o-A4Oe"
      },
      "source": [
        "**Run**"
      ]
    },
    {
      "cell_type": "code",
      "execution_count": null,
      "metadata": {
        "id": "8JQ4B-JnO7zn"
      },
      "outputs": [],
      "source": [
        "!./run.sh num_layers=4"
      ]
    }
  ],
  "metadata": {
    "accelerator": "GPU",
    "colab": {
      "gpuType": "T4",
      "provenance": []
    },
    "kernelspec": {
      "display_name": "Python 3",
      "name": "python3"
    },
    "language_info": {
      "name": "python"
    }
  },
  "nbformat": 4,
  "nbformat_minor": 0
}
